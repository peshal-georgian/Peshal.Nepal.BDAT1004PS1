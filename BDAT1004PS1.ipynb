{
 "cells": [
  {
   "cell_type": "markdown",
   "id": "b831a4ee-2394-40a4-adc4-287ac81fe18a",
   "metadata": {},
   "source": [
    "#### Question 1\n",
    "\n",
    "1. 5.0: double\n",
    "2. 5 > 1: bool\n",
    "3. '5': char\n",
    "4. 5 * 2: int\n",
    "5. '5' * 2: Error (unsupported operation between char and int)\n",
    "6. '5' + '2': string\n",
    "7. 5 / 2: int\n",
    "8. 5 % 2: int\n",
    "9. {5, 2, 1}: array of int (int[])\n",
    "10. 5 == 3: bool\n",
    "11. Pi (π): double\n"
   ]
  },
  {
   "cell_type": "markdown",
   "id": "255737ec-ecbe-46cb-957c-8cf44b47b56a",
   "metadata": {},
   "source": [
    "#### Question 2\n",
    "\n",
    "##### Part a: Counting Characters\n",
    "```C# code\n",
    "string myWord = \"Supercalifragilisticexpialidocious\";\n",
    "int characterCount = myWord.Length;\n",
    "Console.WriteLine(\"Total characters: \" + characterCount); \n",
    "```\n",
    "\n",
    "##### Part b: Check Substring\n",
    "```C# code\n",
    "bool hasSubstring = myWord.Contains(\"ice\");\n",
    "Console.WriteLine(\"'ice' is in the word: \" + hasSubstring);\n",
    "```\n",
    "\n",
    "##### Part c: Longest Word Check\n",
    "```C# code\n",
    "string word1 = \"Supercalifragilisticexpialidocious\";\n",
    "string word2 = \"Honorificabilitudinitatibus\";\n",
    "string word3 = \"Bababadalgharaghtakamminarronnkonn\";\n",
    "\n",
    "string longest = FindLongestWord(word1, word2, word3);\n",
    "Console.WriteLine(\"The longest word is: \" + longest);\n",
    "\n",
    "public static string FindLongestWord(string a, string b, string c)\n",
    "{\n",
    "    return (a.Length >= b.Length && a.Length >= c.Length) ? a :\n",
    "           (b.Length >= a.Length && b.Length >= c.Length) ? b : c;\n",
    "}\n",
    "```\n",
    "\n",
    "##### Part d: Alphabetical Composer Sort\n",
    "```C# code\n",
    "List<string> composers = new List<string> { \"Berlioz\", \"Borodin\", \"Brian\", \"Bartok\", \"Bellini\", \"Buxtehude\", \"Bernstein\" };\n",
    "composers.Sort();\n",
    "Console.WriteLine(\"First composer: \" + composers[0]);\n",
    "Console.WriteLine(\"Last composer: \" + composers[composers.Count - 1]);\n",
    "```"
   ]
  },
  {
   "cell_type": "markdown",
   "id": "8575443f-3522-43ea-8cc2-db36228efe10",
   "metadata": {},
   "source": [
    "#### Question 3: Triangle Area (Heron’s Formula)\n",
    "```C# code\n",
    "public static double CalculateTriangleArea(double a, double b, double c)\n",
    "{\n",
    "    double semiPerimeter = (a + b + c) / 2;\n",
    "    return Math.Sqrt(semiPerimeter * (semiPerimeter - a) * (semiPerimeter - b) * (semiPerimeter - c));\n",
    "}\n",
    "\n",
    "double area = CalculateTriangleArea(2, 2, 2);\n",
    "Console.WriteLine(\"Triangle area: \" + area);\n",
    "```"
   ]
  },
  {
   "cell_type": "markdown",
   "id": "4deb0455-5036-4957-b80b-5be91652ea15",
   "metadata": {},
   "source": [
    "#### Question 4: Separate Odd and Even Numbers\n",
    "```C# code\n",
    "int[] numbers = { 25, 47, 42, 56, 32 };\n",
    "List<int> evens = new List<int>();\n",
    "List<int> odds = new List<int>();\n",
    "\n",
    "foreach (int num in numbers)\n",
    "{\n",
    "    if (num % 2 == 0)\n",
    "        evens.Add(num);\n",
    "    else\n",
    "        odds.Add(num);\n",
    "}\n",
    "\n",
    "Console.WriteLine(\"Even numbers: \" + string.Join(\", \", evens));\n",
    "Console.WriteLine(\"Odd numbers: \" + string.Join(\", \", odds));\n",
    "```"
   ]
  },
  {
   "cell_type": "markdown",
   "id": "4aa9653c-667e-4026-a4e3-3b8c3af905d1",
   "metadata": {},
   "source": [
    "#### Question 5: Point Inside a Rectangle\n",
    "\n",
    "##### Part a: Single Rectangle\n",
    "```C# code\n",
    "bool isInsideRectangle = IsPointInside(1, 1, 0, 0, 2, 3);\n",
    "Console.WriteLine(\"Point is inside: \" + isInsideRectangle);\n",
    "\n",
    "public static bool IsPointInside(double px, double py, double x1, double y1, double x2, double y2)\n",
    "{\n",
    "    return px > x1 && px < x2 && py > y1 && py < y2;\n",
    "}\n",
    "```\n",
    "\n",
    "##### Part b: Multiple Rectangles\n",
    "```C# code\n",
    "bool inFirst = IsPointInside(1, 1, 0.3, 0.5, 1.1, 0.7);\n",
    "bool inSecond = IsPointInside(1, 1, 0.5, 0.2, 1.1, 2);\n",
    "\n",
    "Console.WriteLine(\"Point is in both rectangles: \" + (inFirst && inSecond));\n",
    "```"
   ]
  },
  {
   "cell_type": "code",
   "execution_count": 6,
   "id": "3430e20a-dd48-4a3e-8cd8-f162b60c2114",
   "metadata": {},
   "outputs": [
    {
     "name": "stdout",
     "output_type": "stream",
     "text": [
      "appyhay\n",
      "enterway\n"
     ]
    }
   ],
   "source": [
    "# Question number 6\n",
    "# Function to convert word to Pig Latin\n",
    "def convert_to_piglatin(word):\n",
    "    lower_word = word.lower()\n",
    "    vowels = 'aeiou'\n",
    "    if lower_word[0] in vowels:\n",
    "        return f'{lower_word}way'\n",
    "    else:\n",
    "        return f'{lower_word[1:]}{lower_word[0]}ay'\n",
    "\n",
    "# Testing with examples\n",
    "print(convert_to_piglatin('happy'))  # Output: appyhay\n",
    "print(convert_to_piglatin('Enter'))  # Output: enterway"
   ]
  },
  {
   "cell_type": "code",
   "execution_count": 7,
   "id": "0403e860-c7e9-4714-8202-ac9d728c2e74",
   "metadata": {},
   "outputs": [
    {
     "name": "stdout",
     "output_type": "stream",
     "text": [
      "Blood type A: 15\n",
      "Blood type B: 1\n",
      "Blood type AB: 13\n",
      "Blood type O: 15\n",
      "Blood type OO: 0\n"
     ]
    }
   ],
   "source": [
    "# Question number 7\n",
    "def count_blood_types(file_name):\n",
    "    with open(file_name, 'r') as f:\n",
    "        blood_list = f.read().split()\n",
    "\n",
    "    blood_types = ['A', 'B', 'AB', 'O', 'OO']\n",
    "    for bt in blood_types:\n",
    "        print(f'Blood type {bt}: {blood_list.count(bt)}')\n",
    "\n",
    "# Test the function\n",
    "count_blood_types('bloodtype1.txt')"
   ]
  },
  {
   "cell_type": "code",
   "execution_count": 8,
   "id": "bda44697-c043-4157-9fa2-10adc2657381",
   "metadata": {},
   "outputs": [
    {
     "name": "stdout",
     "output_type": "stream",
     "text": [
      "EUR to USD: 122.96544\n",
      "JPY to USD: 1.241401\n"
     ]
    }
   ],
   "source": [
    "# Question number 8\n",
    "# Function to convert currency to USD\n",
    "def convert_currency(currency_code, amount):\n",
    "    exchange_rates = {}\n",
    "    with open('currencies.txt', 'r') as f:\n",
    "        for line in f:\n",
    "            parts = line.split()\n",
    "            exchange_rates[parts[0]] = float(parts[1])\n",
    "\n",
    "    return amount * exchange_rates.get(currency_code, 0)\n",
    "\n",
    "# Test cases\n",
    "print(f\"EUR to USD: {convert_currency('EUR', 100)}\")\n",
    "print(f\"JPY to USD: {convert_currency('JPY', 100)}\")"
   ]
  },
  {
   "cell_type": "code",
   "execution_count": 9,
   "id": "27f7fdb0-e5d1-46f4-83be-4cbe4dc9977a",
   "metadata": {},
   "outputs": [
    {
     "name": "stdout",
     "output_type": "stream",
     "text": [
      "Scenario 1: unsupported operand type(s) for +: 'int' and 'str'\n",
      "Scenario 2: list index out of range\n",
      "Scenario 3: math domain error\n",
      "Scenario 4: name 'x' is not defined\n",
      "Scenario 5: [Errno 2] No such file or directory: 'nonexistent.txt'\n"
     ]
    }
   ],
   "source": [
    "# Question number 9\n",
    "# Identify different exceptions in Python\n",
    "try:\n",
    "    result = 6 + 'a'\n",
    "except TypeError as e:\n",
    "    print(f\"Scenario 1: {e}\")\n",
    "\n",
    "try:\n",
    "    lst = [1, 2, 3]\n",
    "    print(lst[10])\n",
    "except IndexError as e:\n",
    "    print(f\"Scenario 2: {e}\")\n",
    "\n",
    "try:\n",
    "    import math\n",
    "    print(math.sqrt(-1))\n",
    "except ValueError as e:\n",
    "    print(f\"Scenario 3: {e}\")\n",
    "\n",
    "try:\n",
    "    print(x)\n",
    "except NameError as e:\n",
    "    print(f\"Scenario 4: {e}\")\n",
    "\n",
    "try:\n",
    "    with open('nonexistent.txt', 'r') as file:\n",
    "        content = file.read()\n",
    "except FileNotFoundError as e:\n",
    "    print(f\"Scenario 5: {e}\")"
   ]
  },
  {
   "cell_type": "code",
   "execution_count": 10,
   "id": "cc978a52-93a2-4c5a-bcf9-aa8946e1a492",
   "metadata": {},
   "outputs": [
    {
     "name": "stdout",
     "output_type": "stream",
     "text": [
      "[1, 1, 1, 3, 5, 1, 1, 2, 1, 0, 1, 0, 1, 2, 4, 0, 1, 2, 0, 3, 1, 0, 1, 1, 0, 0]\n",
      "[1, 0, 0, 0, 1, 0, 0, 0, 0, 0, 0, 1, 0, 0, 0, 2, 0, 0, 0, 0, 0, 0, 0, 0, 0, 0]\n"
     ]
    }
   ],
   "source": [
    "# Question number 10\n",
    "# Function to count letter frequencies in a text\n",
    "def letter_frequencies(text):\n",
    "    freq_list = [0] * 26\n",
    "    text = text.lower()\n",
    "    for char in text:\n",
    "        if 'a' <= char <= 'z':\n",
    "            freq_list[ord(char) - ord('a')] += 1\n",
    "    return freq_list\n",
    "\n",
    "# Test cases\n",
    "print(letter_frequencies('The quick red fox got bored and went home.'))  \n",
    "print(letter_frequencies('apple'))"
   ]
  },
  {
   "cell_type": "code",
   "execution_count": null,
   "id": "daab4c6c-27b7-4bd7-a78f-28a72e511918",
   "metadata": {},
   "outputs": [],
   "source": []
  },
  {
   "cell_type": "code",
   "execution_count": null,
   "id": "c55f9a95-0c1a-4e9f-b9ec-6bdcc1d91ab9",
   "metadata": {},
   "outputs": [],
   "source": []
  },
  {
   "cell_type": "code",
   "execution_count": null,
   "id": "91c60424-5384-4e02-8092-0f274e73f898",
   "metadata": {},
   "outputs": [],
   "source": []
  }
 ],
 "metadata": {
  "kernelspec": {
   "display_name": "Python 3 (ipykernel)",
   "language": "python",
   "name": "python3"
  },
  "language_info": {
   "codemirror_mode": {
    "name": "ipython",
    "version": 3
   },
   "file_extension": ".py",
   "mimetype": "text/x-python",
   "name": "python",
   "nbconvert_exporter": "python",
   "pygments_lexer": "ipython3",
   "version": "3.12.5"
  }
 },
 "nbformat": 4,
 "nbformat_minor": 5
}
